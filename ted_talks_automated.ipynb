{
 "cells": [
  {
   "cell_type": "markdown",
   "metadata": {},
   "source": [
    "$\\Large{\\text{Web Scrapping Ted Talks.}}$"
   ]
  },
  {
   "cell_type": "markdown",
   "metadata": {},
   "source": [
    "See [Ted Talks Website here](https://www.ted.com/talks?event=tedx&amp;sort=newest).\n"
   ]
  },
  {
   "cell_type": "markdown",
   "metadata": {},
   "source": [
    "    first page:  https://www.ted.com/talks?event=tedx&amp;sort=newest \n",
    "    second page: https://www.ted.com/talks?event=tedx&page=2&sort=newest \n",
    "    last page:   https://www.ted.com/talks?event=tedx&page=17&sort=newest \n",
    "\n",
    "First page is different from rest:\n",
    "    `&amp;sort` verses `&page=2&sort` for the other pages."
   ]
  },
  {
   "cell_type": "code",
   "execution_count": 1,
   "metadata": {},
   "outputs": [],
   "source": [
    "import requests\n",
    "from bs4 import BeautifulSoup"
   ]
  },
  {
   "cell_type": "code",
   "execution_count": 2,
   "metadata": {},
   "outputs": [
    {
     "data": {
      "text/plain": [
       "['https://www.ted.com/talks?event=tedx&amp;sort=newest',\n",
       " 'https://www.ted.com/talks?event=tedx&page=2&sort=newest',\n",
       " 'https://www.ted.com/talks?event=tedx&page=3&sort=newest',\n",
       " 'https://www.ted.com/talks?event=tedx&page=4&sort=newest',\n",
       " 'https://www.ted.com/talks?event=tedx&page=5&sort=newest',\n",
       " 'https://www.ted.com/talks?event=tedx&page=6&sort=newest',\n",
       " 'https://www.ted.com/talks?event=tedx&page=7&sort=newest',\n",
       " 'https://www.ted.com/talks?event=tedx&page=8&sort=newest',\n",
       " 'https://www.ted.com/talks?event=tedx&page=9&sort=newest',\n",
       " 'https://www.ted.com/talks?event=tedx&page=10&sort=newest',\n",
       " 'https://www.ted.com/talks?event=tedx&page=11&sort=newest',\n",
       " 'https://www.ted.com/talks?event=tedx&page=12&sort=newest',\n",
       " 'https://www.ted.com/talks?event=tedx&page=13&sort=newest',\n",
       " 'https://www.ted.com/talks?event=tedx&page=14&sort=newest',\n",
       " 'https://www.ted.com/talks?event=tedx&page=15&sort=newest',\n",
       " 'https://www.ted.com/talks?event=tedx&page=16&sort=newest',\n",
       " 'https://www.ted.com/talks?event=tedx&page=17&sort=newest']"
      ]
     },
     "execution_count": 2,
     "metadata": {},
     "output_type": "execute_result"
    }
   ],
   "source": [
    "# get all websites to scrape from.\n",
    "websites = []\n",
    "website  = 'https://www.ted.com/talks?event=tedx&amp;sort=newest'\n",
    "websites = [website,]\n",
    "for i in range(2, 18):\n",
    "    websites.append(website.replace('amp;','page=%i&'%i))\n",
    "websites"
   ]
  },
  {
   "cell_type": "code",
   "execution_count": 3,
   "metadata": {},
   "outputs": [],
   "source": [
    "from collections import OrderedDict\n",
    "\n",
    "out = OrderedDict()\n",
    "\n",
    "out['page'] = []\n",
    "out['pagesource'] = []\n",
    "out['title'] = []\n",
    "out['speaker'] = []\n",
    "out['dateposted'] = []\n",
    "out['rated'] = []\n",
    "out['duration'] = []\n",
    "out['link'] = []\n",
    "\n",
    "\n",
    "for i_site,site in enumerate(websites):\n",
    "    r       = requests.get(site)\n",
    "    soup    = BeautifulSoup(r.text, 'html.parser')\n",
    "    results = soup.find_all('div', attrs={'class':'media media--sm-v'}) \n",
    "\n",
    "    for i_res,res in enumerate(results):\n",
    "        \n",
    "        title      = res.findAll('a')[1].text.replace('\\n','')\n",
    "        speaker    = res.find('h4').text\n",
    "        dateposted = res.find(name='span', attrs={'class':'meta__val'}).text.replace('\\n', '')\n",
    "        duration   = res.find(name='span', attrs={'class', 'thumb__duration'}).text\n",
    "        link       = res.find('a')['href']\n",
    "        link       = site.split('/talks')[0] + link # add 'https://www.ted.com to beginning\n",
    "        \n",
    "        # NOT ALL TALKS HAVE RATED.\n",
    "        if res.find(name='span', attrs={'class':'meta__row'}):\n",
    "            rated = res.find(name='span', attrs={'class':'meta__row'}).text.replace('\\n','')\n",
    "        else:\n",
    "            rated = ''\n",
    "        \n",
    "        \n",
    "        # APPEND TO DICTIONARY.\n",
    "        out['page'].append(i_site+1)\n",
    "        out['pagesource'].append(site)  # or r.url\n",
    "        out['title'].append(title)\n",
    "        out['speaker'].append(speaker)\n",
    "        out['dateposted'].append(dateposted)\n",
    "        out['rated'].append(rated)\n",
    "        out['duration'].append(duration)\n",
    "        out['link'].append(link)\n",
    "        "
   ]
  },
  {
   "cell_type": "code",
   "execution_count": 5,
   "metadata": {},
   "outputs": [],
   "source": [
    "import pandas as pd"
   ]
  },
  {
   "cell_type": "code",
   "execution_count": 6,
   "metadata": {},
   "outputs": [],
   "source": [
    "data = pd.DataFrame(out)"
   ]
  },
  {
   "cell_type": "code",
   "execution_count": 7,
   "metadata": {},
   "outputs": [
    {
     "data": {
      "text/html": [
       "<div>\n",
       "<style scoped>\n",
       "    .dataframe tbody tr th:only-of-type {\n",
       "        vertical-align: middle;\n",
       "    }\n",
       "\n",
       "    .dataframe tbody tr th {\n",
       "        vertical-align: top;\n",
       "    }\n",
       "\n",
       "    .dataframe thead th {\n",
       "        text-align: right;\n",
       "    }\n",
       "</style>\n",
       "<table border=\"1\" class=\"dataframe\">\n",
       "  <thead>\n",
       "    <tr style=\"text-align: right;\">\n",
       "      <th></th>\n",
       "      <th>page</th>\n",
       "      <th>pagesource</th>\n",
       "      <th>title</th>\n",
       "      <th>speaker</th>\n",
       "      <th>dateposted</th>\n",
       "      <th>rated</th>\n",
       "      <th>duration</th>\n",
       "      <th>link</th>\n",
       "    </tr>\n",
       "  </thead>\n",
       "  <tbody>\n",
       "    <tr>\n",
       "      <th>0</th>\n",
       "      <td>1</td>\n",
       "      <td>https://www.ted.com/talks?event=tedx&amp;amp;sort=...</td>\n",
       "      <td>The power of appreciation</td>\n",
       "      <td>Mike Robbins</td>\n",
       "      <td>Jan 2019</td>\n",
       "      <td></td>\n",
       "      <td>18:06</td>\n",
       "      <td>https://www.ted.com/talks/mike_robbins_the_pow...</td>\n",
       "    </tr>\n",
       "    <tr>\n",
       "      <th>1</th>\n",
       "      <td>1</td>\n",
       "      <td>https://www.ted.com/talks?event=tedx&amp;amp;sort=...</td>\n",
       "      <td>The ruralities of autism</td>\n",
       "      <td>Amy Price Azano</td>\n",
       "      <td>Jan 2019</td>\n",
       "      <td></td>\n",
       "      <td>12:31</td>\n",
       "      <td>https://www.ted.com/talks/amy_price_azano_the_...</td>\n",
       "    </tr>\n",
       "    <tr>\n",
       "      <th>2</th>\n",
       "      <td>1</td>\n",
       "      <td>https://www.ted.com/talks?event=tedx&amp;amp;sort=...</td>\n",
       "      <td>How stigma shaped modern medicine</td>\n",
       "      <td>Nathalia Holt</td>\n",
       "      <td>Jan 2019</td>\n",
       "      <td></td>\n",
       "      <td>15:30</td>\n",
       "      <td>https://www.ted.com/talks/nathalia_holt_how_st...</td>\n",
       "    </tr>\n",
       "    <tr>\n",
       "      <th>3</th>\n",
       "      <td>1</td>\n",
       "      <td>https://www.ted.com/talks?event=tedx&amp;amp;sort=...</td>\n",
       "      <td>3 ways to build a happy marriage and avoid div...</td>\n",
       "      <td>George Blair-West</td>\n",
       "      <td>Jan 2019</td>\n",
       "      <td></td>\n",
       "      <td>11:13</td>\n",
       "      <td>https://www.ted.com/talks/george_blair_west_3_...</td>\n",
       "    </tr>\n",
       "    <tr>\n",
       "      <th>4</th>\n",
       "      <td>1</td>\n",
       "      <td>https://www.ted.com/talks?event=tedx&amp;amp;sort=...</td>\n",
       "      <td>A mother and son's photographic journey throug...</td>\n",
       "      <td>Tony Luciani</td>\n",
       "      <td>Jan 2019</td>\n",
       "      <td></td>\n",
       "      <td>13:32</td>\n",
       "      <td>https://www.ted.com/talks/tony_luciani_a_mothe...</td>\n",
       "    </tr>\n",
       "  </tbody>\n",
       "</table>\n",
       "</div>"
      ],
      "text/plain": [
       "   page                                         pagesource  \\\n",
       "0     1  https://www.ted.com/talks?event=tedx&amp;sort=...   \n",
       "1     1  https://www.ted.com/talks?event=tedx&amp;sort=...   \n",
       "2     1  https://www.ted.com/talks?event=tedx&amp;sort=...   \n",
       "3     1  https://www.ted.com/talks?event=tedx&amp;sort=...   \n",
       "4     1  https://www.ted.com/talks?event=tedx&amp;sort=...   \n",
       "\n",
       "                                               title            speaker  \\\n",
       "0                         The power of appreciation        Mike Robbins   \n",
       "1                           The ruralities of autism    Amy Price Azano   \n",
       "2                  How stigma shaped modern medicine      Nathalia Holt   \n",
       "3  3 ways to build a happy marriage and avoid div...  George Blair-West   \n",
       "4  A mother and son's photographic journey throug...       Tony Luciani   \n",
       "\n",
       "  dateposted rated duration                                               link  \n",
       "0   Jan 2019          18:06  https://www.ted.com/talks/mike_robbins_the_pow...  \n",
       "1   Jan 2019          12:31  https://www.ted.com/talks/amy_price_azano_the_...  \n",
       "2   Jan 2019          15:30  https://www.ted.com/talks/nathalia_holt_how_st...  \n",
       "3   Jan 2019          11:13  https://www.ted.com/talks/george_blair_west_3_...  \n",
       "4   Jan 2019          13:32  https://www.ted.com/talks/tony_luciani_a_mothe...  "
      ]
     },
     "execution_count": 7,
     "metadata": {},
     "output_type": "execute_result"
    }
   ],
   "source": [
    "data.head()"
   ]
  },
  {
   "cell_type": "code",
   "execution_count": 10,
   "metadata": {},
   "outputs": [
    {
     "data": {
      "text/plain": [
       "9     36\n",
       "8     36\n",
       "2     36\n",
       "3     36\n",
       "4     36\n",
       "5     36\n",
       "6     36\n",
       "7     36\n",
       "1     36\n",
       "16    36\n",
       "10    36\n",
       "11    36\n",
       "12    36\n",
       "13    36\n",
       "14    36\n",
       "15    36\n",
       "17    32\n",
       "Name: page, dtype: int64"
      ]
     },
     "execution_count": 10,
     "metadata": {},
     "output_type": "execute_result"
    }
   ],
   "source": [
    "data.page.value_counts() # this is correct. last page only has 32 videos."
   ]
  },
  {
   "cell_type": "code",
   "execution_count": 11,
   "metadata": {},
   "outputs": [],
   "source": [
    "data.to_csv('data/ted_talks.csv', index=False, encoding='utf-8')"
   ]
  }
 ],
 "metadata": {
  "kernelspec": {
   "display_name": "Python 3",
   "language": "python",
   "name": "python3"
  },
  "language_info": {
   "codemirror_mode": {
    "name": "ipython",
    "version": 3
   },
   "file_extension": ".py",
   "mimetype": "text/x-python",
   "name": "python",
   "nbconvert_exporter": "python",
   "pygments_lexer": "ipython3",
   "version": "3.7.0"
  }
 },
 "nbformat": 4,
 "nbformat_minor": 2
}
