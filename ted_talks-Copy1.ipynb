{
 "cells": [
  {
   "cell_type": "markdown",
   "metadata": {},
   "source": [
    "$\\Large{\\text{Web Scrapping Ted Talks.}}$"
   ]
  },
  {
   "cell_type": "markdown",
   "metadata": {},
   "source": [
    "See [Ted Talks Website here](https://www.ted.com/talks?event=tedx&amp;sort=newest).\n"
   ]
  },
  {
   "cell_type": "markdown",
   "metadata": {},
   "source": [
    "__*NOTE:*__ \n",
    "<br></br>\n",
    "__The Ted talks are updated frequently. At the time this notebook was made, there were 17 total pages and the firt 16 of those had 36 talks each (6 columns by 6 rows). Page 17 had less talks. The order and total number of talks on these pages will change with time.__ \n",
    "\n",
    "\n",
    "When you go to the [Ted Talks Website](https://www.ted.com/talks?event=tedx&sort=newest),    \n",
    "you can see there are videos posted along 6 columns across and 6 rows down, equating to 36 talks per page. If you scroll down to the bottom of the Ted Talk site you can see that there are 17 pages total.The final page does not contain 36 talks, but only has 28. \n",
    "\n",
    "In this notebook I am going to show an example of web scrapping. Using the first page of the 17, I will grab some information on the first video. At the end of this notebook, I will build some code that will automatically crawl through all 17 pages and grab the same data for each video on each page. These will be stored in an Ordered Dictionry during the looping process and then dumped into a `pandas` dataframe at the end. I export thid dataframe as a `.csv` file and examine the data in another Jupyter notebook.\n"
   ]
  },
  {
   "cell_type": "markdown",
   "metadata": {},
   "source": [
    "$\\Huge\\color{blue}{\\text{Screenshots of Ted Talks Website}}$"
   ]
  },
  {
   "cell_type": "markdown",
   "metadata": {},
   "source": [
    "<p>\n",
    "<img src=\"images/ted_talks.png\" style=\"width: 2000px;\"/>\n",
    " <em> </em>\n",
    "</p>"
   ]
  },
  {
   "cell_type": "markdown",
   "metadata": {},
   "source": [
    "$\\huge\\color{maroon}{\\text{There are 17 pages}}$"
   ]
  },
  {
   "cell_type": "markdown",
   "metadata": {},
   "source": [
    "<p>\n",
    "<img src=\"images/ted_talks_pages.png\" style=\"width: 2000px;\"/>\n",
    " <em> </em>\n",
    "</p>"
   ]
  },
  {
   "cell_type": "markdown",
   "metadata": {},
   "source": [
    "$\\large\\color{maroon}{\\text{As can be seen in this last photo, some of the talks have \"Rated\" keywords}}$\n",
    "$\\large\\color{maroon}{\\text{while others do not.}}$"
   ]
  },
  {
   "cell_type": "markdown",
   "metadata": {},
   "source": [
    "```\n",
    "\n",
    "\n",
    "```\n",
    "\n",
    "## What Information do we want on each video?\n",
    "1. Page Number. I give each page crawled a number ranging from 1-17. This is a quick way to ID the page. \n",
    "2. Link of the page crawled\n",
    "3. Title of Talk\n",
    "4. Speaker\n",
    "5. Date Talk was Posted\n",
    "6. Rated keywords, those unrated are left blank\n",
    "7. Duration of Talk \n",
    "8. Link to talk\n",
    "\n",
    "Item #2 is what we pass to `request.get` and item #1 is the number we assign to each page as we iterate through all 17 pages. We are web scrapping the information for items 3-8 on the list above.\n",
    "```\n",
    "\n",
    "```\n",
    "We use the `Beautiful Soup` module to parse the HTML data.\n",
    "\n",
    "\n",
    "[Beautiful Soup Documentation](https://www.crummy.com/software/BeautifulSoup/bs4/doc/)\n",
    "\n",
    "\"Beautiful Soup is a Python library for pulling data out of HTML and XML files. It works with your favorite parser to provide idiomatic ways of navigating, searching, and modifying the parse tree. It commonly saves programmers hours or days of work.\"\n",
    "\n",
    "```\n",
    "\n",
    "\n",
    "```"
   ]
  },
  {
   "cell_type": "markdown",
   "metadata": {},
   "source": [
    "$\\large{\\textbf{Since none of the talks of page 1 are Rated, I will use page 2 in this example.}}$\n",
    "```\n",
    "\n",
    "```"
   ]
  },
  {
   "cell_type": "markdown",
   "metadata": {},
   "source": [
    "<font size=4>\n",
    "    \n",
    "If we take a look at the source code for the first video on the first page, we see it beings with `<div class='col'>`, as do all the other videos on the page. We can choose any class and attribute to tell Beautiful Soup to begin scrapping at. We choose the div class with 'm3' attribute; `<div class='m3'>`. Once this div class ends with its corresponding `</div>`, Beaufiful Soup stops reading for that result. \n",
    "**Make sure you choose one that captures *all* the information you need.**\n",
    "    \n",
    "    \n",
    "</font>\n",
    "\n",
    "```\n",
    "<div class='col'>\n",
    "<div class='m3'>\n",
    "<div class='talk-link'>\n",
    "<div class='media media--sm-v'>\n",
    "<div class='media__image media__image--thumb talk-link__image'>\n",
    "<a class=' ga-link' data-ga-context='talks' href='/talks/george_blair_west_3_ways_to_build_a_happy_marriage_and_avoid_divorce'>\n",
    "<span class=\"thumb thumb--video thumb--crop-top\"><span class=\"thumb__sizer\"><span class=\"thumb__tugger\"><img alt=\"\" class=\" thumb__image\" play=\"673\" src=\"https://pi.tedcdn.com/r/talkstar-photos.s3.amazonaws.com/uploads/2ead0f81-93cc-4da1-80a5-e89b1ebdd386/GeorgeBlairWest_2017X-embed-new.jpg?quality=89&amp;w=320\" crop=\"top\" /><span class=\"thumb__aligner\"></span></span></span><span class=\"thumb__duration\">11:13</span></span>\n",
    "</a>\n",
    "</div>\n",
    "<div class='media__message'>\n",
    "<h4 class='h12 talk-link__speaker'>George Blair-West</h4>\n",
    "<h4 class='h9 m5'>\n",
    "<a class=' ga-link' data-ga-context='talks' href='/talks/george_blair_west_3_ways_to_build_a_happy_marriage_and_avoid_divorce'>\n",
    "3 ways to build a happy marriage and avoid divorce\n",
    "</a>\n",
    "</h4>\n",
    "<div class='meta'>\n",
    "<span class='meta__item'>\n",
    "Posted\n",
    "<span class='meta__val'>\n",
    "Jan 2019\n",
    "</span>\n",
    "</span>\n",
    "</div>\n",
    "</div>\n",
    "</div>\n",
    "</div>\n",
    "```"
   ]
  },
  {
   "cell_type": "code",
   "execution_count": 4,
   "metadata": {},
   "outputs": [],
   "source": [
    "website = \"https://www.ted.com/talks?event=tedx&page=2&sort=newest\""
   ]
  },
  {
   "cell_type": "code",
   "execution_count": 5,
   "metadata": {},
   "outputs": [],
   "source": [
    "import requests\n",
    "from bs4 import BeautifulSoup"
   ]
  },
  {
   "cell_type": "code",
   "execution_count": 6,
   "metadata": {},
   "outputs": [],
   "source": [
    "r = requests.get(website)"
   ]
  },
  {
   "cell_type": "code",
   "execution_count": 7,
   "metadata": {},
   "outputs": [],
   "source": [
    "soup = BeautifulSoup(r.text, 'html.parser')"
   ]
  },
  {
   "cell_type": "code",
   "execution_count": 45,
   "metadata": {},
   "outputs": [],
   "source": [
    "# find all the records starting with the div class and having the 'm3' attribute. \n",
    "results = soup.find_all('div', attrs={'class':'media media--sm-v'}) "
   ]
  },
  {
   "cell_type": "code",
   "execution_count": 46,
   "metadata": {},
   "outputs": [
    {
     "data": {
      "text/plain": [
       "36"
      ]
     },
     "execution_count": 46,
     "metadata": {},
     "output_type": "execute_result"
    }
   ],
   "source": [
    "len(results)  # 36"
   ]
  },
  {
   "cell_type": "markdown",
   "metadata": {},
   "source": [
    "__We will use the second result as an example since it was rated.__"
   ]
  },
  {
   "cell_type": "code",
   "execution_count": 71,
   "metadata": {},
   "outputs": [],
   "source": [
    "res = results[2]"
   ]
  },
  {
   "cell_type": "code",
   "execution_count": 72,
   "metadata": {},
   "outputs": [
    {
     "data": {
      "text/plain": [
       "<div class=\"media media--sm-v\">\n",
       "<div class=\"media__image media__image--thumb talk-link__image\">\n",
       "<a class=\" ga-link\" data-ga-context=\"talks\" href=\"/talks/christine_porath_why_being_nice_to_your_coworkers_is_good_for_business\">\n",
       "<span class=\"thumb thumb--video thumb--crop-top\"><span class=\"thumb__sizer\"><span class=\"thumb__tugger\"><img alt=\"\" class=\" thumb__image\" crop=\"top\" play=\"924\" src=\"https://pi.tedcdn.com/r/talkstar-photos.s3.amazonaws.com/uploads/bf6f2115-e341-4c30-a94d-9a3815f0edd4/ChristinePorath_2018X-embed.jpg?quality=89&amp;w=320\"/><span class=\"thumb__aligner\"></span></span></span><span class=\"thumb__duration\">15:24</span></span>\n",
       "</a>\n",
       "</div>\n",
       "<div class=\"media__message\">\n",
       "<h4 class=\"h12 talk-link__speaker\">Christine Porath</h4>\n",
       "<h4 class=\"h9 m5\">\n",
       "<a class=\" ga-link\" data-ga-context=\"talks\" href=\"/talks/christine_porath_why_being_nice_to_your_coworkers_is_good_for_business\">\n",
       "Why being respectful to your coworkers is good for business\n",
       "</a>\n",
       "</h4>\n",
       "<div class=\"meta\">\n",
       "<span class=\"meta__item\">\n",
       "Posted\n",
       "<span class=\"meta__val\">\n",
       "Oct 2018\n",
       "</span>\n",
       "</span>\n",
       "<span class=\"meta__row\">\n",
       "Rated\n",
       "<span class=\"meta__val\">\n",
       "Informative, Inspiring\n",
       "</span>\n",
       "</span>\n",
       "</div>\n",
       "</div>\n",
       "</div>"
      ]
     },
     "execution_count": 72,
     "metadata": {},
     "output_type": "execute_result"
    }
   ],
   "source": [
    "res"
   ]
  },
  {
   "cell_type": "markdown",
   "metadata": {},
   "source": [
    "__I cleaned up this talk's HTML tags so that each tag is on its own line. This makes it easier to see where each tag opens and closes. Each opening tag has a closing tag. For example, the very first tag `<div class=\"media media--sm-v\">` doesn't close until the very end of Part 2 (`</div>`), which is what we'd expect since this is the one we told `Beautiful Soup` to use for separating the talks.__\n",
    "**The last `</div>` in Part 1 closes `<div class=\"media__image media__image--thumb talk-link__image\">`.**\n",
    "\n",
    "\n",
    "## Part 1\n",
    "\n",
    "    <div class=\"media media--sm-v\">\n",
    "    <div class=\"media__image media__image--thumb talk-link__image\">\n",
    "    <a class=\" ga-link\" data-ga-context=\"talks\" href=\"/talks/christine_porath_why_being_nice_to_your_coworkers_is_good_for_business\">\n",
    "    <span class=\"thumb thumb--video thumb--crop-top\">\n",
    "    <span class=\"thumb__sizer\">\n",
    "    <span class=\"thumb__tugger\">\n",
    "    <img alt=\"\" class=\" thumb__image\" crop=\"top\" play=\"924\" src=\"https://pi.tedcdn.com/r/talkstar-photos.s3.amazonaws.com/uploads/bf6f2115-e341-4c30-a94d-9a3815f0edd4/ChristinePorath_2018X-embed.jpg?quality=89&amp;w=320\"/>\n",
    "    <span class=\"thumb__aligner\">\n",
    "    </span>\n",
    "    </span>\n",
    "    </span>\n",
    "    <span class=\"thumb__duration\">15:24\n",
    "    </span>\n",
    "    </span>\n",
    "    </a>\n",
    "    </div>\n",
    "\n",
    "\n",
    "__First 'a' tag holds the link under href.__\n",
    "<br></br>\n",
    "`res.find('a')['href']`\n",
    "\n",
    "\n",
    "__Fifth span class holds duration, their format. 15:24__\n",
    "<br></br>\n",
    "`res.find(name='span', attrs={'class', 'thumb__duration'}).text`\n",
    "<br></br>\n",
    "`res.findAll('span')[4].text`\n",
    "<br></br>\n",
    "`res.findChildren(name='span', attrs={'class', 'thumb__duration'})[0].text`\n",
    "<br></br>\n",
    "`res.findChild(name='span', attrs={'class', 'thumb__duration'}).text`\n",
    "\n",
    "\n",
    "\n",
    "\n",
    "## Part 2\n",
    "\n",
    "    <div class=\"media__message\">\n",
    "    <h4 class=\"h12 talk-link__speaker\">Christine Porath\n",
    "    </h4>\n",
    "    <h4 class=\"h9 m5\">\n",
    "    <a class=\" ga-link\" data-ga-context=\"talks\" href=\"/talks/christine_porath_why_being_nice_to_your_coworkers_is_good_for_business\">\n",
    "    Why being respectful to your coworkers is good for business\n",
    "    </a>\n",
    "    </h4>\n",
    "    <div class=\"meta\">\n",
    "    <span class=\"meta__item\">\n",
    "    Posted\n",
    "    <span class=\"meta__val\">\n",
    "    Oct 2018\n",
    "    </span>\n",
    "    </span>\n",
    "    <span class=\"meta__row\">\n",
    "    Rated\n",
    "    <span class=\"meta__val\">\n",
    "    Informative, Inspiring\n",
    "    </span>\n",
    "    </span>\n",
    "    </div>\n",
    "    </div>\n",
    "    </div>\n",
    "\n",
    "__Second 'a' tag also holds the link.__\n",
    "<br></br>\n",
    "`res.findAll('a')[1]['href']`\n",
    "<br></br>\n",
    "`res.findChildren('a')[1]['href']`\n",
    "<br></br>\n",
    "`res.find('a')` # wont work because it only provides access to the first 'a' tag.\n",
    "<br></br>\n",
    "`res.findChild('a')` # wont work because it only provides access to the first 'a' tag.\n",
    "\n",
    "\n",
    "__Talk Title, same tag as link.__\n",
    "<br></br>\n",
    "`res.findChildren('a')[1].text`\n",
    "<br></br>\n",
    "`res.findAll('a')[1].text`\n",
    "\n",
    "__Speaker Name is the first h4 class.__\n",
    "<br></br>\n",
    "`res.find('h4').text`\n",
    "<br></br>\n",
    "`res.findAll('h4')[0].text` # don't need this bc its first h4 tag to occur.\n",
    "<br></br>\n",
    "`res.findChild('h4').text`\n",
    "<br></br>\n",
    "`res.findChildren('h4')[0].text` # don't need this bc its first h4 tag to occur.\n",
    "\n",
    "__Date Talk with Posted and Rated__\n",
    "<br></br>\n",
    "`len(res.findAll('div'))`  # 3\n",
    "<br></br>\n",
    "`len(res.findAll('span'))`  # 9\n",
    "<br></br>\n",
    "Either `findAll` or `findChildren` can be used with same result. \n",
    "<br></br>\n",
    "\n",
    "First instint is to use the `div` tag since there are less of them. However, the `span` tag has two class attributes that are used solely for the date posted (`'meta__item'`) and rated (`'meta__row'`). Therefore we can use \n",
    "<br></br>\n",
    "`res.find(name='span', attrs={'class':'meta__val'}).text`\n",
    "<br></br>\n",
    "and\n",
    "<br></br>\n",
    "`res.find(name='span', attrs={'class':'meta__row'}).text`\n",
    "<br></br>\n",
    "<br></br>\n",
    "**Don't forget that `'meta__row'` won't be in every Ted talk result because it represents the rated keywords. What can be done is to use:**\n",
    "\n",
    "```\n",
    "\n",
    "if res.find(name='span', attrs={'class':'meta__row'}):\n",
    "    rated_keywords = res.find(name='span', attrs={'class':'meta__row'}).text.replace('\\n','')\n",
    "else:\n",
    "    rated_keywords = ''\n",
    "```\n"
   ]
  },
  {
   "cell_type": "markdown",
   "metadata": {},
   "source": [
    "1. Page Number. I give each page crawled a number ranging from 1-17. This is a quick way to ID the page. \n",
    "2. Link of the page crawled: `website`\n",
    "3. Title of Talk: `res.findAll('a')[1].text`\n",
    "4. Speaker: `res.find('h4').text`\n",
    "5. Date Talk was Posted: `res.find(name='span', attrs={'class':'meta__val'}).text.replace('\\n', '')`\n",
    "6. Rated keywords, those unrated are left blank: `res.find(name='span', attrs={'class':'meta__row'}).text.replace('\\n','')`\n",
    "7. Duration of Talk: `res.find(name='span', attrs={'class', 'thumb__duration'}).text`\n",
    "8. Link to talk: `res.find('a')['href']`"
   ]
  },
  {
   "cell_type": "code",
   "execution_count": 199,
   "metadata": {},
   "outputs": [
    {
     "name": "stdout",
     "output_type": "stream",
     "text": [
      "\n",
      "Why being respectful to your coworkers is good for business\n",
      "\n",
      "Christine Porath\n",
      "Oct 2018\n",
      "RatedInformative, Inspiring\n",
      "15:24\n",
      "/talks/christine_porath_why_being_nice_to_your_coworkers_is_good_for_business\n"
     ]
    }
   ],
   "source": [
    "print(res.findAll('a')[1].text)\n",
    "print(res.find('h4').text)\n",
    "print(res.find(name='span', attrs={'class':'meta__val'}).text.replace('\\n', ''))\n",
    "print(res.find(name='span', attrs={'class':'meta__row'}).text.replace('\\n',''))\n",
    "print(res.find(name='span', attrs={'class', 'thumb__duration'}).text)\n",
    "print(res.find('a')['href'])"
   ]
  },
  {
   "cell_type": "code",
   "execution_count": 205,
   "metadata": {},
   "outputs": [
    {
     "data": {
      "text/plain": [
       "'/talks/christine_porath_why_being_nice_to_your_coworkers_is_good_for_business'"
      ]
     },
     "execution_count": 205,
     "metadata": {},
     "output_type": "execute_result"
    }
   ],
   "source": [
    "\n",
    "\n",
    "talk_title     = res.findAll('a')[1].text\n",
    "talk_speaker   = res.find('h4').text\n",
    "date_posted    = res.find(name='span', attrs={'class':'meta__val'}).text.replace('\\n', '')\n",
    "rated_keywords = res.find(name='span', attrs={'class':'meta__row'}).text.replace('\\n','')\n",
    "talk_duration  = res.find(name='span', attrs={'class', 'thumb__duration'}).text\n",
    "talk_link      = res.find('a')['href']\n",
    "\n"
   ]
  },
  {
   "cell_type": "markdown",
   "metadata": {},
   "source": [
    "__Using `.find` vs `.findAll` to find HTML tags with certain class attributes.__\n",
    "\n",
    "```python\n",
    "Signature: first_result.find(name=None, attrs={}, recursive=True, text=None, **kwargs)\n",
    "Docstring:\n",
    "Return only the first child of this Tag matching the given\n",
    "criteria.\n",
    "\n",
    "Signature: first_result.findAll(name=None, attrs={}, recursive=True, text=None, limit=None, **kwargs)\n",
    "Docstring:\n",
    "Extracts a list of Tag objects that match the given\n",
    "criteria.  You can specify the name of the Tag and any\n",
    "attributes you want the Tag to have.\n",
    "```"
   ]
  },
  {
   "cell_type": "code",
   "execution_count": 15,
   "metadata": {},
   "outputs": [
    {
     "data": {
      "text/plain": [
       "<span class=\"thumb thumb--video thumb--crop-top\"><span class=\"thumb__sizer\"><span class=\"thumb__tugger\"><img alt=\"\" class=\" thumb__image\" crop=\"top\" play=\"924\" src=\"https://pi.tedcdn.com/r/talkstar-photos.s3.amazonaws.com/uploads/bf6f2115-e341-4c30-a94d-9a3815f0edd4/ChristinePorath_2018X-embed.jpg?quality=89&amp;w=320\"/><span class=\"thumb__aligner\"></span></span></span><span class=\"thumb__duration\">15:24</span></span>"
      ]
     },
     "execution_count": 15,
     "metadata": {},
     "output_type": "execute_result"
    }
   ],
   "source": [
    "res.find('span')"
   ]
  },
  {
   "cell_type": "code",
   "execution_count": 16,
   "metadata": {
    "scrolled": true
   },
   "outputs": [
    {
     "data": {
      "text/plain": [
       "[<span class=\"thumb thumb--video thumb--crop-top\"><span class=\"thumb__sizer\"><span class=\"thumb__tugger\"><img alt=\"\" class=\" thumb__image\" crop=\"top\" play=\"924\" src=\"https://pi.tedcdn.com/r/talkstar-photos.s3.amazonaws.com/uploads/bf6f2115-e341-4c30-a94d-9a3815f0edd4/ChristinePorath_2018X-embed.jpg?quality=89&amp;w=320\"/><span class=\"thumb__aligner\"></span></span></span><span class=\"thumb__duration\">15:24</span></span>,\n",
       " <span class=\"thumb__sizer\"><span class=\"thumb__tugger\"><img alt=\"\" class=\" thumb__image\" crop=\"top\" play=\"924\" src=\"https://pi.tedcdn.com/r/talkstar-photos.s3.amazonaws.com/uploads/bf6f2115-e341-4c30-a94d-9a3815f0edd4/ChristinePorath_2018X-embed.jpg?quality=89&amp;w=320\"/><span class=\"thumb__aligner\"></span></span></span>,\n",
       " <span class=\"thumb__tugger\"><img alt=\"\" class=\" thumb__image\" crop=\"top\" play=\"924\" src=\"https://pi.tedcdn.com/r/talkstar-photos.s3.amazonaws.com/uploads/bf6f2115-e341-4c30-a94d-9a3815f0edd4/ChristinePorath_2018X-embed.jpg?quality=89&amp;w=320\"/><span class=\"thumb__aligner\"></span></span>,\n",
       " <span class=\"thumb__aligner\"></span>,\n",
       " <span class=\"thumb__duration\">15:24</span>,\n",
       " <span class=\"meta__item\">\n",
       " Posted\n",
       " <span class=\"meta__val\">\n",
       " Oct 2018\n",
       " </span>\n",
       " </span>,\n",
       " <span class=\"meta__val\">\n",
       " Oct 2018\n",
       " </span>,\n",
       " <span class=\"meta__row\">\n",
       " Rated\n",
       " <span class=\"meta__val\">\n",
       " Informative, Inspiring\n",
       " </span>\n",
       " </span>,\n",
       " <span class=\"meta__val\">\n",
       " Informative, Inspiring\n",
       " </span>]"
      ]
     },
     "execution_count": 16,
     "metadata": {},
     "output_type": "execute_result"
    }
   ],
   "source": [
    "res.findAll('span')"
   ]
  },
  {
   "cell_type": "code",
   "execution_count": 17,
   "metadata": {},
   "outputs": [
    {
     "data": {
      "text/plain": [
       "<span class=\"thumb thumb--video thumb--crop-top\"><span class=\"thumb__sizer\"><span class=\"thumb__tugger\"><img alt=\"\" class=\" thumb__image\" crop=\"top\" play=\"924\" src=\"https://pi.tedcdn.com/r/talkstar-photos.s3.amazonaws.com/uploads/bf6f2115-e341-4c30-a94d-9a3815f0edd4/ChristinePorath_2018X-embed.jpg?quality=89&amp;w=320\"/><span class=\"thumb__aligner\"></span></span></span><span class=\"thumb__duration\">15:24</span></span>"
      ]
     },
     "execution_count": 17,
     "metadata": {},
     "output_type": "execute_result"
    }
   ],
   "source": [
    "res.findAll('span')[0]"
   ]
  },
  {
   "cell_type": "code",
   "execution_count": 18,
   "metadata": {},
   "outputs": [
    {
     "data": {
      "text/plain": [
       "<span class=\"thumb__sizer\"><span class=\"thumb__tugger\"><img alt=\"\" class=\" thumb__image\" crop=\"top\" play=\"924\" src=\"https://pi.tedcdn.com/r/talkstar-photos.s3.amazonaws.com/uploads/bf6f2115-e341-4c30-a94d-9a3815f0edd4/ChristinePorath_2018X-embed.jpg?quality=89&amp;w=320\"/><span class=\"thumb__aligner\"></span></span></span>"
      ]
     },
     "execution_count": 18,
     "metadata": {},
     "output_type": "execute_result"
    }
   ],
   "source": [
    "res.findAll('span')[1]"
   ]
  },
  {
   "cell_type": "code",
   "execution_count": 19,
   "metadata": {},
   "outputs": [
    {
     "data": {
      "text/plain": [
       "<span class=\"thumb__tugger\"><img alt=\"\" class=\" thumb__image\" crop=\"top\" play=\"924\" src=\"https://pi.tedcdn.com/r/talkstar-photos.s3.amazonaws.com/uploads/bf6f2115-e341-4c30-a94d-9a3815f0edd4/ChristinePorath_2018X-embed.jpg?quality=89&amp;w=320\"/><span class=\"thumb__aligner\"></span></span>"
      ]
     },
     "execution_count": 19,
     "metadata": {},
     "output_type": "execute_result"
    }
   ],
   "source": [
    "res.findAll('span')[2]"
   ]
  },
  {
   "cell_type": "code",
   "execution_count": 20,
   "metadata": {},
   "outputs": [
    {
     "data": {
      "text/plain": [
       "<span class=\"thumb__aligner\"></span>"
      ]
     },
     "execution_count": 20,
     "metadata": {},
     "output_type": "execute_result"
    }
   ],
   "source": [
    "res.findAll('span')[3]"
   ]
  },
  {
   "cell_type": "code",
   "execution_count": 21,
   "metadata": {},
   "outputs": [
    {
     "data": {
      "text/plain": [
       "<span class=\"thumb__duration\">15:24</span>"
      ]
     },
     "execution_count": 21,
     "metadata": {},
     "output_type": "execute_result"
    }
   ],
   "source": [
    "res.findAll('span')[4]"
   ]
  },
  {
   "cell_type": "code",
   "execution_count": 22,
   "metadata": {},
   "outputs": [
    {
     "data": {
      "text/plain": [
       "<span class=\"meta__item\">\n",
       "Posted\n",
       "<span class=\"meta__val\">\n",
       "Oct 2018\n",
       "</span>\n",
       "</span>"
      ]
     },
     "execution_count": 22,
     "metadata": {},
     "output_type": "execute_result"
    }
   ],
   "source": [
    "res.findAll('span')[5]"
   ]
  },
  {
   "cell_type": "code",
   "execution_count": 23,
   "metadata": {},
   "outputs": [
    {
     "data": {
      "text/plain": [
       "<span class=\"meta__val\">\n",
       "Oct 2018\n",
       "</span>"
      ]
     },
     "execution_count": 23,
     "metadata": {},
     "output_type": "execute_result"
    }
   ],
   "source": [
    "res.findAll('span')[6]  # THIS ONE HOLDS THE DATE"
   ]
  },
  {
   "cell_type": "code",
   "execution_count": 27,
   "metadata": {},
   "outputs": [
    {
     "data": {
      "text/plain": [
       "<span class=\"meta__row\">\n",
       "Rated\n",
       "<span class=\"meta__val\">\n",
       "Informative, Inspiring\n",
       "</span>\n",
       "</span>"
      ]
     },
     "execution_count": 27,
     "metadata": {},
     "output_type": "execute_result"
    }
   ],
   "source": [
    "res.findAll('span')[7]  # THIS ONE HOLDS THE RATED"
   ]
  },
  {
   "cell_type": "code",
   "execution_count": 28,
   "metadata": {},
   "outputs": [
    {
     "data": {
      "text/plain": [
       "<span class=\"meta__val\">\n",
       "Informative, Inspiring\n",
       "</span>"
      ]
     },
     "execution_count": 28,
     "metadata": {},
     "output_type": "execute_result"
    }
   ],
   "source": [
    "res.findAll('span')[8]"
   ]
  },
  {
   "cell_type": "code",
   "execution_count": 31,
   "metadata": {},
   "outputs": [
    {
     "data": {
      "text/plain": [
       "'15:24'"
      ]
     },
     "execution_count": 31,
     "metadata": {},
     "output_type": "execute_result"
    }
   ],
   "source": [
    "res.find('span').text"
   ]
  },
  {
   "cell_type": "code",
   "execution_count": null,
   "metadata": {},
   "outputs": [],
   "source": []
  },
  {
   "cell_type": "code",
   "execution_count": 32,
   "metadata": {},
   "outputs": [
    {
     "data": {
      "text/plain": [
       "[]"
      ]
     },
     "execution_count": 32,
     "metadata": {},
     "output_type": "execute_result"
    }
   ],
   "source": [
    "res.find_all('span', attrs={'class':'meta_val'}) "
   ]
  },
  {
   "cell_type": "code",
   "execution_count": null,
   "metadata": {},
   "outputs": [],
   "source": []
  },
  {
   "cell_type": "code",
   "execution_count": null,
   "metadata": {},
   "outputs": [],
   "source": []
  },
  {
   "cell_type": "code",
   "execution_count": null,
   "metadata": {},
   "outputs": [],
   "source": []
  },
  {
   "cell_type": "code",
   "execution_count": null,
   "metadata": {},
   "outputs": [],
   "source": []
  },
  {
   "cell_type": "code",
   "execution_count": 14,
   "metadata": {},
   "outputs": [
    {
     "data": {
      "text/plain": [
       "<a class=\" ga-link\" data-ga-context=\"talks\" href=\"/talks/christine_porath_why_being_nice_to_your_coworkers_is_good_for_business\">\n",
       "<span class=\"thumb thumb--video thumb--crop-top\"><span class=\"thumb__sizer\"><span class=\"thumb__tugger\"><img alt=\"\" class=\" thumb__image\" crop=\"top\" play=\"924\" src=\"https://pi.tedcdn.com/r/talkstar-photos.s3.amazonaws.com/uploads/bf6f2115-e341-4c30-a94d-9a3815f0edd4/ChristinePorath_2018X-embed.jpg?quality=89&amp;w=320\"/><span class=\"thumb__aligner\"></span></span></span><span class=\"thumb__duration\">15:24</span></span>\n",
       "</a>"
      ]
     },
     "execution_count": 14,
     "metadata": {},
     "output_type": "execute_result"
    }
   ],
   "source": [
    "res.find('a')"
   ]
  },
  {
   "cell_type": "code",
   "execution_count": 9,
   "metadata": {},
   "outputs": [
    {
     "data": {
      "text/plain": [
       "[<a class=\" ga-link\" data-ga-context=\"talks\" href=\"/talks/amy_price_azano_the_ruralities_of_autism\">\n",
       " <span class=\"thumb thumb--video thumb--crop-top\"><span class=\"thumb__sizer\"><span class=\"thumb__tugger\"><img alt=\"\" class=\" thumb__image\" crop=\"top\" play=\"751\" src=\"https://pi.tedcdn.com/r/talkstar-photos.s3.amazonaws.com/uploads/b3f4021a-9423-4ea3-aee6-3d55f78093f2/Amy+Price+Azano+Set+1.jpeg?quality=89&amp;w=320\"/><span class=\"thumb__aligner\"></span></span></span><span class=\"thumb__duration\">12:31</span></span>\n",
       " </a>,\n",
       " <a class=\" ga-link\" data-ga-context=\"talks\" href=\"/talks/amy_price_azano_the_ruralities_of_autism\">\n",
       " The ruralities of autism\n",
       " </a>]"
      ]
     },
     "execution_count": 9,
     "metadata": {},
     "output_type": "execute_result"
    }
   ],
   "source": [
    "first_result.findAll('a')"
   ]
  },
  {
   "cell_type": "code",
   "execution_count": 10,
   "metadata": {},
   "outputs": [
    {
     "data": {
      "text/plain": [
       "2"
      ]
     },
     "execution_count": 10,
     "metadata": {},
     "output_type": "execute_result"
    }
   ],
   "source": [
    "# has 2 children.\n",
    "len(first_result.findAll('a'))"
   ]
  },
  {
   "cell_type": "code",
   "execution_count": 11,
   "metadata": {},
   "outputs": [
    {
     "data": {
      "text/plain": [
       "<a class=\" ga-link\" data-ga-context=\"talks\" href=\"/talks/amy_price_azano_the_ruralities_of_autism\">\n",
       "<span class=\"thumb thumb--video thumb--crop-top\"><span class=\"thumb__sizer\"><span class=\"thumb__tugger\"><img alt=\"\" class=\" thumb__image\" crop=\"top\" play=\"751\" src=\"https://pi.tedcdn.com/r/talkstar-photos.s3.amazonaws.com/uploads/b3f4021a-9423-4ea3-aee6-3d55f78093f2/Amy+Price+Azano+Set+1.jpeg?quality=89&amp;w=320\"/><span class=\"thumb__aligner\"></span></span></span><span class=\"thumb__duration\">12:31</span></span>\n",
       "</a>"
      ]
     },
     "execution_count": 11,
     "metadata": {},
     "output_type": "execute_result"
    }
   ],
   "source": [
    "# first one\n",
    "first_result.findAll('a')[0]"
   ]
  },
  {
   "cell_type": "code",
   "execution_count": 12,
   "metadata": {},
   "outputs": [
    {
     "data": {
      "text/plain": [
       "<a class=\" ga-link\" data-ga-context=\"talks\" href=\"/talks/amy_price_azano_the_ruralities_of_autism\">\n",
       "The ruralities of autism\n",
       "</a>"
      ]
     },
     "execution_count": 12,
     "metadata": {},
     "output_type": "execute_result"
    }
   ],
   "source": [
    "# second one \n",
    "first_result.findAll('a')[1]"
   ]
  },
  {
   "cell_type": "code",
   "execution_count": 13,
   "metadata": {},
   "outputs": [
    {
     "data": {
      "text/plain": [
       "<a class=\" ga-link\" data-ga-context=\"talks\" href=\"/talks/amy_price_azano_the_ruralities_of_autism\">\n",
       "<span class=\"thumb thumb--video thumb--crop-top\"><span class=\"thumb__sizer\"><span class=\"thumb__tugger\"><img alt=\"\" class=\" thumb__image\" crop=\"top\" play=\"751\" src=\"https://pi.tedcdn.com/r/talkstar-photos.s3.amazonaws.com/uploads/b3f4021a-9423-4ea3-aee6-3d55f78093f2/Amy+Price+Azano+Set+1.jpeg?quality=89&amp;w=320\"/><span class=\"thumb__aligner\"></span></span></span><span class=\"thumb__duration\">12:31</span></span>\n",
       "</a>"
      ]
     },
     "execution_count": 13,
     "metadata": {},
     "output_type": "execute_result"
    }
   ],
   "source": [
    "first_result.findAll('a')[0]"
   ]
  },
  {
   "cell_type": "code",
   "execution_count": 14,
   "metadata": {},
   "outputs": [
    {
     "data": {
      "text/plain": [
       "'\\n12:31\\n'"
      ]
     },
     "execution_count": 14,
     "metadata": {},
     "output_type": "execute_result"
    }
   ],
   "source": [
    "first_result.findAll('a')[0].text  # duration"
   ]
  },
  {
   "cell_type": "code",
   "execution_count": 15,
   "metadata": {},
   "outputs": [
    {
     "data": {
      "text/plain": [
       "'/talks/amy_price_azano_the_ruralities_of_autism'"
      ]
     },
     "execution_count": 15,
     "metadata": {},
     "output_type": "execute_result"
    }
   ],
   "source": [
    "first_result.findAll('a')[0]['href']  # link"
   ]
  },
  {
   "cell_type": "code",
   "execution_count": 16,
   "metadata": {},
   "outputs": [
    {
     "data": {
      "text/plain": [
       "<a class=\" ga-link\" data-ga-context=\"talks\" href=\"/talks/amy_price_azano_the_ruralities_of_autism\">\n",
       "The ruralities of autism\n",
       "</a>"
      ]
     },
     "execution_count": 16,
     "metadata": {},
     "output_type": "execute_result"
    }
   ],
   "source": [
    "first_result.findAll('a')[1]"
   ]
  },
  {
   "cell_type": "code",
   "execution_count": 17,
   "metadata": {},
   "outputs": [
    {
     "data": {
      "text/plain": [
       "'/talks/amy_price_azano_the_ruralities_of_autism'"
      ]
     },
     "execution_count": 17,
     "metadata": {},
     "output_type": "execute_result"
    }
   ],
   "source": [
    "first_result.findAll('a')[1]['href']  # also link"
   ]
  },
  {
   "cell_type": "code",
   "execution_count": 18,
   "metadata": {},
   "outputs": [
    {
     "data": {
      "text/plain": [
       "'\\nThe ruralities of autism\\n'"
      ]
     },
     "execution_count": 18,
     "metadata": {},
     "output_type": "execute_result"
    }
   ],
   "source": [
    "first_result.findAll('a')[1].text  # title"
   ]
  },
  {
   "cell_type": "code",
   "execution_count": 19,
   "metadata": {},
   "outputs": [
    {
     "data": {
      "text/plain": [
       "<h4 class=\"h12 talk-link__speaker\">Amy Price Azano</h4>"
      ]
     },
     "execution_count": 19,
     "metadata": {},
     "output_type": "execute_result"
    }
   ],
   "source": [
    "# h4 tag has the speaker name\n",
    "first_result.findAll('h4')[0]"
   ]
  },
  {
   "cell_type": "code",
   "execution_count": 20,
   "metadata": {},
   "outputs": [
    {
     "data": {
      "text/plain": [
       "'Amy Price Azano'"
      ]
     },
     "execution_count": 20,
     "metadata": {},
     "output_type": "execute_result"
    }
   ],
   "source": [
    "first_result.findAll('h4')[0].text  # speaker name"
   ]
  },
  {
   "cell_type": "code",
   "execution_count": 21,
   "metadata": {},
   "outputs": [
    {
     "data": {
      "text/plain": [
       "<span class=\"meta__val\">\n",
       "Jan 2019\n",
       "</span>"
      ]
     },
     "execution_count": 21,
     "metadata": {},
     "output_type": "execute_result"
    }
   ],
   "source": [
    "first_result.findAll('span')[-1]  # posted date"
   ]
  },
  {
   "cell_type": "code",
   "execution_count": 22,
   "metadata": {},
   "outputs": [
    {
     "data": {
      "text/plain": [
       "'\\nJan 2019\\n'"
      ]
     },
     "execution_count": 22,
     "metadata": {},
     "output_type": "execute_result"
    }
   ],
   "source": [
    "first_result.findAll('span')[-1].text  # posted date"
   ]
  },
  {
   "cell_type": "code",
   "execution_count": 23,
   "metadata": {},
   "outputs": [],
   "source": [
    "title       = first_result.findAll('a')[1].text.replace('\\n','')\n",
    "\n",
    "speaker     = first_result.findAll('h4')[0].text\n",
    "\n",
    "link        = first_result.findAll('a')[0]['href']\n",
    "\n",
    "dateposted = first_result.findAll('span')[-1].text.replace('\\n','')\n",
    "\n",
    "duration    = first_result.findAll('a')[0].text.replace('\\n','')  \n",
    "\n",
    "#  # MORE DURATION OPTIONS:\n",
    "# duration_h, duration_m = [float(i) for i in first_result.findAll('span')[0].text.split(':')] \n",
    "# duration_seconds = first_result.find('img')['play']\n",
    "# duration_minutes = float(duration_seconds)/60\n",
    "# duration = divmod(float(duration_seconds), 60) # returns tuple of (mins, sec)\n"
   ]
  },
  {
   "cell_type": "code",
   "execution_count": 24,
   "metadata": {},
   "outputs": [
    {
     "name": "stdout",
     "output_type": "stream",
     "text": [
      "The ruralities of autism\n",
      "Amy Price Azano\n",
      "/talks/amy_price_azano_the_ruralities_of_autism\n",
      "Jan 2019\n",
      "12:31\n"
     ]
    }
   ],
   "source": [
    "for i in [title, speaker, link, dateposted, duration]:\n",
    "    print(i)"
   ]
  },
  {
   "cell_type": "markdown",
   "metadata": {},
   "source": [
    "```\n",
    "\n",
    "\n",
    "```\n",
    "# Scrapping all 17 pages and saving data"
   ]
  },
  {
   "cell_type": "code",
   "execution_count": 25,
   "metadata": {},
   "outputs": [],
   "source": [
    "from collections import OrderedDict\n",
    "\n",
    "out = OrderedDict()\n",
    "\n",
    "out['page'] = []\n",
    "out['page_source'] = []\n",
    "out['title'] = []\n",
    "out['speaker'] = []\n",
    "out['date_posted'] = []\n",
    "out['duration'] = []\n",
    "out['link'] = []"
   ]
  },
  {
   "cell_type": "markdown",
   "metadata": {},
   "source": [
    "    first page:  https://www.ted.com/talks?event=tedx&amp;sort=newest \n",
    "    second page: https://www.ted.com/talks?event=tedx&page=2&sort=newest \n",
    "    last page:   https://www.ted.com/talks?event=tedx&page=17&sort=newest \n",
    "\n",
    "First page is different from rest:\n",
    "    `&amp;sort` verses `&page=2&sort` for the other pages."
   ]
  },
  {
   "cell_type": "code",
   "execution_count": 26,
   "metadata": {},
   "outputs": [
    {
     "data": {
      "text/plain": [
       "['https://www.ted.com/talks?event=tedx&amp;sort=newest',\n",
       " 'https://www.ted.com/talks?event=tedx&page=2&sort=newest',\n",
       " 'https://www.ted.com/talks?event=tedx&page=3&sort=newest',\n",
       " 'https://www.ted.com/talks?event=tedx&page=4&sort=newest',\n",
       " 'https://www.ted.com/talks?event=tedx&page=5&sort=newest',\n",
       " 'https://www.ted.com/talks?event=tedx&page=6&sort=newest',\n",
       " 'https://www.ted.com/talks?event=tedx&page=7&sort=newest',\n",
       " 'https://www.ted.com/talks?event=tedx&page=8&sort=newest',\n",
       " 'https://www.ted.com/talks?event=tedx&page=9&sort=newest',\n",
       " 'https://www.ted.com/talks?event=tedx&page=10&sort=newest',\n",
       " 'https://www.ted.com/talks?event=tedx&page=11&sort=newest',\n",
       " 'https://www.ted.com/talks?event=tedx&page=12&sort=newest',\n",
       " 'https://www.ted.com/talks?event=tedx&page=13&sort=newest',\n",
       " 'https://www.ted.com/talks?event=tedx&page=14&sort=newest',\n",
       " 'https://www.ted.com/talks?event=tedx&page=15&sort=newest',\n",
       " 'https://www.ted.com/talks?event=tedx&page=16&sort=newest',\n",
       " 'https://www.ted.com/talks?event=tedx&page=17&sort=newest']"
      ]
     },
     "execution_count": 26,
     "metadata": {},
     "output_type": "execute_result"
    }
   ],
   "source": [
    "# get all websites to scrape from.\n",
    "websites = []\n",
    "website  = 'https://www.ted.com/talks?event=tedx&amp;sort=newest'\n",
    "websites = [website,]\n",
    "for i in range(2, 18):\n",
    "    websites.append(website.replace('amp;','page=%i&'%i))\n",
    "websites"
   ]
  },
  {
   "cell_type": "code",
   "execution_count": 27,
   "metadata": {},
   "outputs": [],
   "source": [
    "\n",
    "out = OrderedDict()\n",
    "out['page'] = []\n",
    "out['pagesource'] = []\n",
    "out['title'] = []\n",
    "out['speaker'] = []\n",
    "out['dateposted'] = []\n",
    "out['duration'] = []\n",
    "out['link'] = []\n",
    "\n",
    "\n",
    "for i_site,site in enumerate(websites):\n",
    "    r       = requests.get(site)\n",
    "    soup    = BeautifulSoup(r.text, 'html.parser')\n",
    "    results = soup.find_all('div', attrs={'class':'m3'}) \n",
    "\n",
    "    for i_res,res in enumerate(results):\n",
    "        title      = res.findAll('a')[1].text.replace('\\n','')\n",
    "        speaker    = res.findAll('h4')[0].text\n",
    "        dateposted = res.findAll('span')[-1].text.replace('\\n','')\n",
    "        duration   = res.find('span').text \n",
    "        link       = res.findAll('a')[0]['href']\n",
    "        link       = site.split('/talks')[0] + link # add 'https://www.ted.com to beginning\n",
    "        # APPEND TO DICTIONARY.\n",
    "        out['page'].append(i_site+1)\n",
    "        out['pagesource'].append(site)  # or r.url\n",
    "        out['title'].append(title)\n",
    "        out['speaker'].append(speaker)\n",
    "        out['dateposted'].append(dateposted)\n",
    "        out['duration'].append(duration)\n",
    "        out['link'].append(link)\n",
    "        "
   ]
  },
  {
   "cell_type": "code",
   "execution_count": 28,
   "metadata": {},
   "outputs": [],
   "source": [
    "import pandas as pd"
   ]
  },
  {
   "cell_type": "code",
   "execution_count": 29,
   "metadata": {},
   "outputs": [],
   "source": [
    "data = pd.DataFrame(out)"
   ]
  },
  {
   "cell_type": "code",
   "execution_count": 34,
   "metadata": {},
   "outputs": [
    {
     "data": {
      "text/html": [
       "<div>\n",
       "<style scoped>\n",
       "    .dataframe tbody tr th:only-of-type {\n",
       "        vertical-align: middle;\n",
       "    }\n",
       "\n",
       "    .dataframe tbody tr th {\n",
       "        vertical-align: top;\n",
       "    }\n",
       "\n",
       "    .dataframe thead th {\n",
       "        text-align: right;\n",
       "    }\n",
       "</style>\n",
       "<table border=\"1\" class=\"dataframe\">\n",
       "  <thead>\n",
       "    <tr style=\"text-align: right;\">\n",
       "      <th></th>\n",
       "      <th>page</th>\n",
       "      <th>pagesource</th>\n",
       "      <th>title</th>\n",
       "      <th>speaker</th>\n",
       "      <th>dateposted</th>\n",
       "      <th>duration</th>\n",
       "      <th>link</th>\n",
       "    </tr>\n",
       "  </thead>\n",
       "  <tbody>\n",
       "    <tr>\n",
       "      <th>0</th>\n",
       "      <td>1</td>\n",
       "      <td>https://www.ted.com/talks?event=tedx&amp;amp;sort=...</td>\n",
       "      <td>The ruralities of autism</td>\n",
       "      <td>Amy Price Azano</td>\n",
       "      <td>Jan 2019</td>\n",
       "      <td>12:31</td>\n",
       "      <td>https://www.ted.com/talks/amy_price_azano_the_...</td>\n",
       "    </tr>\n",
       "    <tr>\n",
       "      <th>1</th>\n",
       "      <td>1</td>\n",
       "      <td>https://www.ted.com/talks?event=tedx&amp;amp;sort=...</td>\n",
       "      <td>How stigma shaped modern medicine</td>\n",
       "      <td>Nathalia Holt</td>\n",
       "      <td>Jan 2019</td>\n",
       "      <td>15:30</td>\n",
       "      <td>https://www.ted.com/talks/nathalia_holt_how_st...</td>\n",
       "    </tr>\n",
       "    <tr>\n",
       "      <th>2</th>\n",
       "      <td>1</td>\n",
       "      <td>https://www.ted.com/talks?event=tedx&amp;amp;sort=...</td>\n",
       "      <td>3 ways to build a happy marriage and avoid div...</td>\n",
       "      <td>George Blair-West</td>\n",
       "      <td>Jan 2019</td>\n",
       "      <td>11:13</td>\n",
       "      <td>https://www.ted.com/talks/george_blair_west_3_...</td>\n",
       "    </tr>\n",
       "    <tr>\n",
       "      <th>3</th>\n",
       "      <td>1</td>\n",
       "      <td>https://www.ted.com/talks?event=tedx&amp;amp;sort=...</td>\n",
       "      <td>A mother and son's photographic journey throug...</td>\n",
       "      <td>Tony Luciani</td>\n",
       "      <td>Jan 2019</td>\n",
       "      <td>13:32</td>\n",
       "      <td>https://www.ted.com/talks/tony_luciani_a_mothe...</td>\n",
       "    </tr>\n",
       "    <tr>\n",
       "      <th>4</th>\n",
       "      <td>1</td>\n",
       "      <td>https://www.ted.com/talks?event=tedx&amp;amp;sort=...</td>\n",
       "      <td>5 ways to share math with kids</td>\n",
       "      <td>Dan Finkel</td>\n",
       "      <td>Jan 2019</td>\n",
       "      <td>14:41</td>\n",
       "      <td>https://www.ted.com/talks/dan_finkel_5_ways_to...</td>\n",
       "    </tr>\n",
       "  </tbody>\n",
       "</table>\n",
       "</div>"
      ],
      "text/plain": [
       "   page                                         pagesource  \\\n",
       "0     1  https://www.ted.com/talks?event=tedx&amp;sort=...   \n",
       "1     1  https://www.ted.com/talks?event=tedx&amp;sort=...   \n",
       "2     1  https://www.ted.com/talks?event=tedx&amp;sort=...   \n",
       "3     1  https://www.ted.com/talks?event=tedx&amp;sort=...   \n",
       "4     1  https://www.ted.com/talks?event=tedx&amp;sort=...   \n",
       "\n",
       "                                               title            speaker  \\\n",
       "0                           The ruralities of autism    Amy Price Azano   \n",
       "1                  How stigma shaped modern medicine      Nathalia Holt   \n",
       "2  3 ways to build a happy marriage and avoid div...  George Blair-West   \n",
       "3  A mother and son's photographic journey throug...       Tony Luciani   \n",
       "4                     5 ways to share math with kids         Dan Finkel   \n",
       "\n",
       "  dateposted duration                                               link  \n",
       "0   Jan 2019    12:31  https://www.ted.com/talks/amy_price_azano_the_...  \n",
       "1   Jan 2019    15:30  https://www.ted.com/talks/nathalia_holt_how_st...  \n",
       "2   Jan 2019    11:13  https://www.ted.com/talks/george_blair_west_3_...  \n",
       "3   Jan 2019    13:32  https://www.ted.com/talks/tony_luciani_a_mothe...  \n",
       "4   Jan 2019    14:41  https://www.ted.com/talks/dan_finkel_5_ways_to...  "
      ]
     },
     "execution_count": 34,
     "metadata": {},
     "output_type": "execute_result"
    }
   ],
   "source": [
    "data.head()"
   ]
  },
  {
   "cell_type": "code",
   "execution_count": 31,
   "metadata": {},
   "outputs": [
    {
     "data": {
      "text/plain": [
       "9     36\n",
       "8     36\n",
       "2     36\n",
       "3     36\n",
       "4     36\n",
       "5     36\n",
       "6     36\n",
       "7     36\n",
       "1     36\n",
       "16    36\n",
       "10    36\n",
       "11    36\n",
       "12    36\n",
       "13    36\n",
       "14    36\n",
       "15    36\n",
       "17    28\n",
       "Name: page, dtype: int64"
      ]
     },
     "execution_count": 31,
     "metadata": {},
     "output_type": "execute_result"
    }
   ],
   "source": [
    "data.page.value_counts() # this is correct. last page only has 26 videos."
   ]
  },
  {
   "cell_type": "code",
   "execution_count": 32,
   "metadata": {},
   "outputs": [],
   "source": [
    "data.to_csv('ted_talks.csv', index=False, encoding='utf-8')"
   ]
  }
 ],
 "metadata": {
  "kernelspec": {
   "display_name": "Python 3",
   "language": "python",
   "name": "python3"
  },
  "language_info": {
   "codemirror_mode": {
    "name": "ipython",
    "version": 3
   },
   "file_extension": ".py",
   "mimetype": "text/x-python",
   "name": "python",
   "nbconvert_exporter": "python",
   "pygments_lexer": "ipython3",
   "version": "3.7.0"
  }
 },
 "nbformat": 4,
 "nbformat_minor": 2
}
